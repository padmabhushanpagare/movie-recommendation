{
 "cells": [
  {
   "cell_type": "code",
   "execution_count": null,
   "id": "94b66078",
   "metadata": {},
   "outputs": [],
   "source": [
    "from src.data_loader import load_data\n",
    "from src.recommenders import get_top_n_popular\n",
    "\n",
    "# Load data\n",
    "ratings, movies, df = load_data()\n",
    "\n",
    "# Get top movies\n",
    "top_movies = get_top_n_popular(df, n=10, min_ratings=100)\n",
    "top_movies = top_movies.merge(movies, on='movieId')\n",
    "\n",
    "top_movies[['title', 'avg_rating', 'rating_count']]"
   ]
  }
 ],
 "metadata": {
  "language_info": {
   "name": "python"
  }
 },
 "nbformat": 4,
 "nbformat_minor": 5
}
