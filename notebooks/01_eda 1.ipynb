{
 "cells": [
  {
   "cell_type": "markdown",
   "id": "9f96d617",
   "metadata": {},
   "source": [
    "Exploratory Data Analysis"
   ]
  },
  {
   "cell_type": "code",
   "execution_count": null,
   "id": "b9d69805",
   "metadata": {},
   "outputs": [],
   "source": [
    "# Standard imports\n",
    "import pandas as pd\n",
    "import numpy as np\n",
    "import matplotlib.pyplot as plt\n",
    "import seaborn as sns\n",
    "\n",
    "# For displaying plots nicely\n",
    "%matplotlib inline\n",
    "sns.set(style='whitegrid')\n",
    "\n",
    "# To import from src/\n",
    "import sys\n",
    "sys.path.append('../src')\n",
    "\n",
    "from data_loader import load_ratings, load_movies, merge_datasets"
   ]
  },
  {
   "cell_type": "markdown",
   "id": "49072a71",
   "metadata": {},
   "source": [
    "Step 1: Load & Merge Data"
   ]
  },
  {
   "cell_type": "code",
   "execution_count": null,
   "id": "0ca403e0",
   "metadata": {},
   "outputs": [],
   "source": [
    "ratings = load_ratings('../data/ratings.csv')\n",
    "movies = load_movies('../data/movies.csv')\n",
    "df = merge_datasets(ratings, movies)\n",
    "\n",
    "df.head()\n"
   ]
  },
  {
   "cell_type": "markdown",
   "id": "85720098",
   "metadata": {},
   "source": [
    "Step 2: Quick Overview"
   ]
  },
  {
   "cell_type": "markdown",
   "id": "c07d1351",
   "metadata": {},
   "source": [
    "print(\"Shape:\", df.shape)\n",
    "print(\"\\nData types:\\n\", df.dtypes)\n",
    "print(\"\\nMissing values:\\n\", df.isnull().sum())"
   ]
  },
  {
   "cell_type": "markdown",
   "id": "446d0c43",
   "metadata": {},
   "source": [
    "Step 3: Ratings Distribution"
   ]
  },
  {
   "cell_type": "code",
   "execution_count": null,
   "id": "21c42b4b",
   "metadata": {},
   "outputs": [],
   "source": [
    "plt.figure(figsize=(8, 4))\n",
    "sns.histplot(df['rating'], bins=np.arange(0.5, 5.5, 0.5), kde=False)\n",
    "plt.title('Distribution of Ratings')\n",
    "plt.xlabel('Rating')\n",
    "plt.ylabel('Count')\n",
    "plt.show()"
   ]
  },
  {
   "cell_type": "markdown",
   "id": "14442612",
   "metadata": {},
   "source": [
    "Step 4: Top 10 Most Rated Movies"
   ]
  },
  {
   "cell_type": "code",
   "execution_count": null,
   "id": "50c6cfb3",
   "metadata": {},
   "outputs": [],
   "source": [
    "top_movies = df.groupby('title')['rating'].count().sort_values(ascending=False).head(10)\n",
    "top_movies.plot(kind='barh', figsize=(8, 5), color='skyblue')\n",
    "plt.title('Top 10 Most Rated Movies')\n",
    "plt.xlabel('Number of Ratings')\n",
    "plt.gca().invert_yaxis()\n",
    "plt.show()"
   ]
  },
  {
   "cell_type": "markdown",
   "id": "6baed93e",
   "metadata": {},
   "source": [
    "Step 5: Users & Items Overview"
   ]
  },
  {
   "cell_type": "code",
   "execution_count": null,
   "id": "42f40e87",
   "metadata": {},
   "outputs": [],
   "source": [
    "n_users = df['userId'].nunique()\n",
    "n_movies = df['movieId'].nunique()\n",
    "print(f\"Unique users: {n_users}, Unique movies: {n_movies}\")"
   ]
  },
  {
   "cell_type": "markdown",
   "id": "7f00e394",
   "metadata": {},
   "source": [
    " Step 6: Average Rating per Movie"
   ]
  },
  {
   "cell_type": "code",
   "execution_count": null,
   "id": "cb380c56",
   "metadata": {},
   "outputs": [],
   "source": [
    "avg_ratings = df.groupby('title')['rating'].mean().sort_values(ascending=False)\n",
    "avg_ratings.head(10)"
   ]
  },
  {
   "cell_type": "markdown",
   "id": "b47eceaf",
   "metadata": {},
   "source": []
  }
 ],
 "metadata": {
  "kernelspec": {
   "display_name": "venv",
   "language": "python",
   "name": "python3"
  },
  "language_info": {
   "name": "python",
   "version": "3.13.4"
  }
 },
 "nbformat": 4,
 "nbformat_minor": 5
}
