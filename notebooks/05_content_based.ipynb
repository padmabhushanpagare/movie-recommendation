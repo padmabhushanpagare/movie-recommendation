{
 "cells": [
  {
   "cell_type": "code",
   "execution_count": 2,
   "id": "0ad15b06",
   "metadata": {},
   "outputs": [
    {
     "data": {
      "text/html": [
       "<div>\n",
       "<style scoped>\n",
       "    .dataframe tbody tr th:only-of-type {\n",
       "        vertical-align: middle;\n",
       "    }\n",
       "\n",
       "    .dataframe tbody tr th {\n",
       "        vertical-align: top;\n",
       "    }\n",
       "\n",
       "    .dataframe thead th {\n",
       "        text-align: right;\n",
       "    }\n",
       "</style>\n",
       "<table border=\"1\" class=\"dataframe\">\n",
       "  <thead>\n",
       "    <tr style=\"text-align: right;\">\n",
       "      <th></th>\n",
       "      <th>movieId</th>\n",
       "      <th>title</th>\n",
       "      <th>genres</th>\n",
       "    </tr>\n",
       "  </thead>\n",
       "  <tbody>\n",
       "    <tr>\n",
       "      <th>0</th>\n",
       "      <td>1</td>\n",
       "      <td>Toy Story (1995)</td>\n",
       "      <td>Adventure|Animation|Children|Comedy|Fantasy</td>\n",
       "    </tr>\n",
       "    <tr>\n",
       "      <th>1</th>\n",
       "      <td>2</td>\n",
       "      <td>Jumanji (1995)</td>\n",
       "      <td>Adventure|Children|Fantasy</td>\n",
       "    </tr>\n",
       "    <tr>\n",
       "      <th>2</th>\n",
       "      <td>3</td>\n",
       "      <td>Grumpier Old Men (1995)</td>\n",
       "      <td>Comedy|Romance</td>\n",
       "    </tr>\n",
       "    <tr>\n",
       "      <th>3</th>\n",
       "      <td>4</td>\n",
       "      <td>Waiting to Exhale (1995)</td>\n",
       "      <td>Comedy|Drama|Romance</td>\n",
       "    </tr>\n",
       "    <tr>\n",
       "      <th>4</th>\n",
       "      <td>5</td>\n",
       "      <td>Father of the Bride Part II (1995)</td>\n",
       "      <td>Comedy</td>\n",
       "    </tr>\n",
       "  </tbody>\n",
       "</table>\n",
       "</div>"
      ],
      "text/plain": [
       "   movieId                               title  \\\n",
       "0        1                    Toy Story (1995)   \n",
       "1        2                      Jumanji (1995)   \n",
       "2        3             Grumpier Old Men (1995)   \n",
       "3        4            Waiting to Exhale (1995)   \n",
       "4        5  Father of the Bride Part II (1995)   \n",
       "\n",
       "                                        genres  \n",
       "0  Adventure|Animation|Children|Comedy|Fantasy  \n",
       "1                   Adventure|Children|Fantasy  \n",
       "2                               Comedy|Romance  \n",
       "3                         Comedy|Drama|Romance  \n",
       "4                                       Comedy  "
      ]
     },
     "execution_count": 2,
     "metadata": {},
     "output_type": "execute_result"
    }
   ],
   "source": [
    "import pandas as pd\n",
    "from sklearn.feature_extraction.text import TfidfVectorizer\n",
    "from sklearn.metrics.pairwise import cosine_similarity\n",
    "\n",
    "# load movies data\n",
    "movies = pd.read_csv('../data/movies.csv')\n",
    "movies.head()"
   ]
  },
  {
   "cell_type": "code",
   "execution_count": 3,
   "id": "d5dbf52b",
   "metadata": {},
   "outputs": [],
   "source": [
    "# Replace '|' with space so TF-IDF treats genres as separate words\n",
    "movies[\"genres\"] = movies[\"genres\"].str.replace(\"|\", \" \", regex=False)"
   ]
  },
  {
   "cell_type": "code",
   "execution_count": 4,
   "id": "6ef417b1",
   "metadata": {},
   "outputs": [
    {
     "name": "stdout",
     "output_type": "stream",
     "text": [
      "(10329, 23)\n"
     ]
    }
   ],
   "source": [
    "# Initialise vectorizer\n",
    "tfidf = TfidfVectorizer(stop_words='english')\n",
    "\n",
    "# Fit and transform\n",
    "tfidf_matrix = tfidf.fit_transform(movies[\"genres\"])\n",
    "\n",
    "print(tfidf_matrix.shape) # (number of movies, number of genre terms)"
   ]
  },
  {
   "cell_type": "code",
   "execution_count": 5,
   "id": "9c79656b",
   "metadata": {},
   "outputs": [],
   "source": [
    "# Cosine similarity between all movies\n",
    "cosine_sim = cosine_similarity(tfidf_matrix, tfidf_matrix)"
   ]
  },
  {
   "cell_type": "code",
   "execution_count": 7,
   "id": "b6cf2189",
   "metadata": {},
   "outputs": [],
   "source": [
    "# Map movie titles to indices\n",
    "movie_indices = pd.Series(movies.index, index=movies[\"title\"]).drop_duplicates()"
   ]
  },
  {
   "cell_type": "code",
   "execution_count": 8,
   "id": "7a98b94c",
   "metadata": {},
   "outputs": [],
   "source": [
    "def get_similar_movies(title, top_n=10):\n",
    "    if title not in movie_indices:\n",
    "        return[]\n",
    "    \n",
    "    idx = movie_indices[title]\n",
    "    sim_scores = list(enumerate(cosine_sim[idx]))\n",
    "    sim_scores = sorted(sim_scores, key=lambda x:x[1], reverse=True)\n",
    "    sim_scores = sim_scores[1:top_n+1]\n",
    "\n",
    "    movie_indices_sorted = [i[0] for i in sim_scores]\n",
    "    return movies[\"title\"].iloc[movie_indices_sorted].tolist()"
   ]
  },
  {
   "cell_type": "code",
   "execution_count": 9,
   "id": "302b8b4b",
   "metadata": {},
   "outputs": [
    {
     "data": {
      "text/plain": [
       "['Antz (1998)',\n",
       " 'Toy Story 2 (1999)',\n",
       " 'Adventures of Rocky and Bullwinkle, The (2000)',\n",
       " \"Emperor's New Groove, The (2000)\",\n",
       " 'Monsters, Inc. (2001)']"
      ]
     },
     "execution_count": 9,
     "metadata": {},
     "output_type": "execute_result"
    }
   ],
   "source": [
    "get_similar_movies(\"Toy Story (1995)\", top_n=5)"
   ]
  }
 ],
 "metadata": {
  "kernelspec": {
   "display_name": "Python 3",
   "language": "python",
   "name": "python3"
  },
  "language_info": {
   "codemirror_mode": {
    "name": "ipython",
    "version": 3
   },
   "file_extension": ".py",
   "mimetype": "text/x-python",
   "name": "python",
   "nbconvert_exporter": "python",
   "pygments_lexer": "ipython3",
   "version": "3.11.10"
  }
 },
 "nbformat": 4,
 "nbformat_minor": 5
}
