{
 "cells": [
  {
   "cell_type": "code",
   "execution_count": 1,
   "id": "9b969a1f",
   "metadata": {},
   "outputs": [],
   "source": [
    "# 1. Imports & Data Load\n",
    "\n",
    "import sys, os\n",
    "sys.path.append(os.path.abspath(\"..\"))\n",
    "\n",
    "from src.data_loader import load_data\n",
    "ratings, movies, df = load_data()"
   ]
  },
  {
   "cell_type": "code",
   "execution_count": 2,
   "id": "570cd336",
   "metadata": {},
   "outputs": [],
   "source": [
    "# 2. Convert Data to Surprise Format\n",
    "from surprise import Dataset, Reader\n",
    "from surprise.model_selection import train_test_split\n",
    "\n",
    "# Setup reader: rating scale is 0.5 to 5.0\n",
    "reader = Reader(rating_scale=(0.5, 5.0))\n",
    "data = Dataset.load_from_df(df[['userId', 'movieId', 'rating']], reader)\n",
    "\n",
    "# Train-test split\n",
    "trainset, testset = train_test_split(data, test_size=0.2, random_state=42)"
   ]
  },
  {
   "cell_type": "code",
   "execution_count": 3,
   "id": "2197caa6",
   "metadata": {},
   "outputs": [
    {
     "name": "stdout",
     "output_type": "stream",
     "text": [
      "RMSE: 0.8671\n"
     ]
    }
   ],
   "source": [
    "# 3. Train SVD Model\n",
    "from surprise import SVD\n",
    "from surprise import accuracy\n",
    "\n",
    "# Initialize and train model\n",
    "model = SVD()\n",
    "model.fit(trainset)\n",
    "\n",
    "# Predict on test set\n",
    "predictions = model.test(testset)\n",
    "\n",
    "# Evaluate\n",
    "rmse = accuracy.rmse(predictions)"
   ]
  },
  {
   "cell_type": "code",
   "execution_count": 5,
   "id": "1a5e39c4",
   "metadata": {},
   "outputs": [
    {
     "data": {
      "text/html": [
       "<div>\n",
       "<style scoped>\n",
       "    .dataframe tbody tr th:only-of-type {\n",
       "        vertical-align: middle;\n",
       "    }\n",
       "\n",
       "    .dataframe tbody tr th {\n",
       "        vertical-align: top;\n",
       "    }\n",
       "\n",
       "    .dataframe thead th {\n",
       "        text-align: right;\n",
       "    }\n",
       "</style>\n",
       "<table border=\"1\" class=\"dataframe\">\n",
       "  <thead>\n",
       "    <tr style=\"text-align: right;\">\n",
       "      <th></th>\n",
       "      <th>title</th>\n",
       "      <th>predicted_rating</th>\n",
       "    </tr>\n",
       "  </thead>\n",
       "  <tbody>\n",
       "    <tr>\n",
       "      <th>0</th>\n",
       "      <td>Requiem for a Dream (2000)</td>\n",
       "      <td>4.312700</td>\n",
       "    </tr>\n",
       "    <tr>\n",
       "      <th>1</th>\n",
       "      <td>Touch of Evil (1958)</td>\n",
       "      <td>4.299359</td>\n",
       "    </tr>\n",
       "    <tr>\n",
       "      <th>2</th>\n",
       "      <td>Chinatown (1974)</td>\n",
       "      <td>4.274282</td>\n",
       "    </tr>\n",
       "    <tr>\n",
       "      <th>3</th>\n",
       "      <td>Avengers, The (2012)</td>\n",
       "      <td>4.202444</td>\n",
       "    </tr>\n",
       "    <tr>\n",
       "      <th>4</th>\n",
       "      <td>This Is Spinal Tap (1984)</td>\n",
       "      <td>4.188549</td>\n",
       "    </tr>\n",
       "    <tr>\n",
       "      <th>5</th>\n",
       "      <td>Deer Hunter, The (1978)</td>\n",
       "      <td>4.179844</td>\n",
       "    </tr>\n",
       "    <tr>\n",
       "      <th>6</th>\n",
       "      <td>Princess Mononoke (Mononoke-hime) (1997)</td>\n",
       "      <td>4.171366</td>\n",
       "    </tr>\n",
       "    <tr>\n",
       "      <th>7</th>\n",
       "      <td>M (1931)</td>\n",
       "      <td>4.160939</td>\n",
       "    </tr>\n",
       "    <tr>\n",
       "      <th>8</th>\n",
       "      <td>Ran (1985)</td>\n",
       "      <td>4.155887</td>\n",
       "    </tr>\n",
       "    <tr>\n",
       "      <th>9</th>\n",
       "      <td>Citizen Kane (1941)</td>\n",
       "      <td>4.154462</td>\n",
       "    </tr>\n",
       "  </tbody>\n",
       "</table>\n",
       "</div>"
      ],
      "text/plain": [
       "                                      title  predicted_rating\n",
       "0                Requiem for a Dream (2000)          4.312700\n",
       "1                      Touch of Evil (1958)          4.299359\n",
       "2                          Chinatown (1974)          4.274282\n",
       "3                      Avengers, The (2012)          4.202444\n",
       "4                 This Is Spinal Tap (1984)          4.188549\n",
       "5                   Deer Hunter, The (1978)          4.179844\n",
       "6  Princess Mononoke (Mononoke-hime) (1997)          4.171366\n",
       "7                                  M (1931)          4.160939\n",
       "8                                Ran (1985)          4.155887\n",
       "9                       Citizen Kane (1941)          4.154462"
      ]
     },
     "execution_count": 5,
     "metadata": {},
     "output_type": "execute_result"
    }
   ],
   "source": [
    "# 4. Recommend Movies for a Specific User\n",
    "# Get all movie IDs the user hasn't rated\n",
    "user_id = 1\n",
    "user_rated = df[df['userId'] == user_id]['movieId'].tolist()\n",
    "all_movies = df['movieId'].unique()\n",
    "unrated_movies = [m for m in all_movies if m not in user_rated]\n",
    "\n",
    "# Predict ratings for all unrated movies\n",
    "preds = [model.predict(user_id, mid) for mid in unrated_movies]\n",
    "\n",
    "# Sort by predicted rating\n",
    "top_preds = sorted(preds, key=lambda x: x.est, reverse=True)[:10]\n",
    "\n",
    "# Map back to titles\n",
    "top_movie_ids = [p.iid for p in top_preds]\n",
    "top_movie_titles = movies[movies['movieId'].isin(top_movie_ids)][['movieId', 'title']]\n",
    "\n",
    "import pandas as pd\n",
    "# Merge predictions\n",
    "recommendations = pd.DataFrame({\n",
    "    'movieId': top_movie_ids,\n",
    "    'predicted_rating': [p.est for p in top_preds]\n",
    "}).merge(top_movie_titles, on='movieId')[['title', 'predicted_rating']]\n",
    "\n",
    "recommendations\n"
   ]
  },
  {
   "cell_type": "code",
   "execution_count": 6,
   "id": "91a8979d",
   "metadata": {},
   "outputs": [
    {
     "name": "stdout",
     "output_type": "stream",
     "text": [
      "Average Precision@10: 0.7368\n",
      "Average Recall@10: 0.5319\n"
     ]
    }
   ],
   "source": [
    "from src.evaluation import precision_recall_at_k\n",
    "\n",
    "# Evaluate Precision@K and Recall@K\n",
    "precisions, recalls = precision_recall_at_k(predictions, k=10, threshold=3.5)\n",
    "\n",
    "# Average over all users\n",
    "avg_precision = sum(prec for prec in precisions.values()) / len(precisions)\n",
    "avg_recall = sum(rec for rec in recalls.values()) / len(recalls)\n",
    "\n",
    "print(f\"Average Precision@10: {avg_precision:.4f}\")\n",
    "print(f\"Average Recall@10: {avg_recall:.4f}\")"
   ]
  }
 ],
 "metadata": {
  "kernelspec": {
   "display_name": "Python 3",
   "language": "python",
   "name": "python3"
  },
  "language_info": {
   "codemirror_mode": {
    "name": "ipython",
    "version": 3
   },
   "file_extension": ".py",
   "mimetype": "text/x-python",
   "name": "python",
   "nbconvert_exporter": "python",
   "pygments_lexer": "ipython3",
   "version": "3.11.10"
  }
 },
 "nbformat": 4,
 "nbformat_minor": 5
}
