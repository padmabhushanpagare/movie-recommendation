{
 "cells": [
  {
   "cell_type": "code",
   "execution_count": 1,
   "id": "a222729a",
   "metadata": {},
   "outputs": [
    {
     "data": {
      "text/plain": [
       "['Antz (1998)',\n",
       " 'Toy Story 2 (1999)',\n",
       " 'Adventures of Rocky and Bullwinkle, The (2000)',\n",
       " \"Emperor's New Groove, The (2000)\",\n",
       " 'Monsters, Inc. (2001)']"
      ]
     },
     "execution_count": 1,
     "metadata": {},
     "output_type": "execute_result"
    }
   ],
   "source": [
    "import pandas as pd\n",
    "import sys\n",
    "import os\n",
    "\n",
    "# Add src/ to path\n",
    "sys.path.append(os.path.abspath(os.path.join(\"..\", \"src\")))\n",
    "\n",
    "from content_recommender import ContentRecommender\n",
    "\n",
    "# Load movies data\n",
    "movies = pd.read_csv(\"../data/movies.csv\")\n",
    "\n",
    "# Initialize recommender\n",
    "content_rec = ContentRecommender(movies)\n",
    "\n",
    "# Test\n",
    "content_rec.get_similar_movies(\"Toy Story (1995)\", top_n=5)"
   ]
  }
 ],
 "metadata": {
  "kernelspec": {
   "display_name": "Python 3",
   "language": "python",
   "name": "python3"
  },
  "language_info": {
   "codemirror_mode": {
    "name": "ipython",
    "version": 3
   },
   "file_extension": ".py",
   "mimetype": "text/x-python",
   "name": "python",
   "nbconvert_exporter": "python",
   "pygments_lexer": "ipython3",
   "version": "3.11.10"
  }
 },
 "nbformat": 4,
 "nbformat_minor": 5
}
