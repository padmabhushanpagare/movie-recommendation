{
 "cells": [
  {
   "cell_type": "code",
   "execution_count": null,
   "id": "54cb74e7",
   "metadata": {},
   "outputs": [],
   "source": [
    "# Make sure the notebook is one level below root (like in 'notebooks/')\n",
    "from src.data_loader import load_data\n",
    "\n",
    "ratings, movies, df = load_data()"
   ]
  }
 ],
 "metadata": {
  "language_info": {
   "name": "python"
  }
 },
 "nbformat": 4,
 "nbformat_minor": 5
}
